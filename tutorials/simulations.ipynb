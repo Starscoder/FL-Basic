{
 "cells": [
  {
   "cell_type": "markdown",
   "metadata": {
    "colab_type": "text",
    "id": "grBmytrShbUE"
   },
   "source": [
    "# High-performance simulations with TFF\n",
    "\n",
    "This tutorial will describe how to setup high-performance simulations with TFF\n",
    "in a variety of common scenarios.\n",
    "\n",
    "TODO(b/134543154): Populate the content, some of the things to cover here:\n",
    "- using GPUs in a single-machine setup,\n",
    "- multi-machine setup on GCP/GKE, with and without TPUs,\n",
    "- interfacing MapReduce-like backends,\n",
    "- current limitations and when/how they will be relaxed."
   ]
  },
  {
   "cell_type": "markdown",
   "metadata": {
    "id": "iPFgLeZIsZ3Q"
   },
   "source": [
    "<table class=\"tfo-notebook-buttons\" align=\"left\">\n",
    "  <td>\n",
    "    <a target=\"_blank\" href=\"https://www.tensorflow.org/federated/tutorials/simulations\"><img src=\"https://www.tensorflow.org/images/tf_logo_32px.png\" />View on TensorFlow.org</a>\n",
    "  </td>\n",
    "  <td>\n",
    "    <a target=\"_blank\" href=\"https://colab.research.google.com/github/tensorflow/federated/blob/master/docs/tutorials/simulations.ipynb\"><img src=\"https://www.tensorflow.org/images/colab_logo_32px.png\" />Run in Google Colab</a>\n",
    "  </td>\n",
    "  <td>\n",
    "    <a target=\"_blank\" href=\"https://github.com/tensorflow/federated/blob/master/docs/tutorials/simulations.ipynb\"><img src=\"https://www.tensorflow.org/images/GitHub-Mark-32px.png\" />View source on GitHub</a>\n",
    "  </td>\n",
    "  <td>\n",
    "    <a href=\"https://storage.googleapis.com/tensorflow_docs/federated/docs/tutorials/simulations.ipynb\"><img src=\"https://www.tensorflow.org/images/download_logo_32px.png\" />Download notebook</a>\n",
    "  </td>\n",
    "</table>"
   ]
  },
  {
   "cell_type": "markdown",
   "metadata": {
    "colab_type": "text",
    "id": "yiq_MY4LopET"
   },
   "source": [
    "## Before we begin\n",
    "\n",
    "First, make sure your notebook is connected to a backend that has the relevant\n",
    "components (including gRPC dependencies for multi-machine scenarios) compiled."
   ]
  },
  {
   "cell_type": "markdown",
   "metadata": {
    "colab_type": "text",
    "id": "_zFenI3IPpgI"
   },
   "source": [
    "Now, let's start by loading the MNIST example from the TFF website, and\n",
    "declaring the Python function that will run a small experiment loop over\n",
    "a group of 10 clients."
   ]
  },
  {
   "cell_type": "code",
   "execution_count": 1,
   "metadata": {
    "colab": {
     "height": 35
    },
    "colab_type": "code",
    "executionInfo": {
     "elapsed": 431,
     "status": "ok",
     "timestamp": 1592938309587,
     "user": {
      "displayName": "",
      "photoUrl": "",
      "userId": ""
     },
     "user_tz": 420
    },
    "id": "ke7EyuvG0Zyn",
    "outputId": "5e577237-a756-40d4-ff81-a2adf85452f2"
   },
   "outputs": [],
   "source": [
    "#@test {\"skip\": true}\n",
    "# !pip install --quiet --upgrade tensorflow-federated-nightly\n",
    "# !pip install --quiet --upgrade nest-asyncio\n",
    "\n",
    "import nest_asyncio\n",
    "nest_asyncio.apply()"
   ]
  },
  {
   "cell_type": "code",
   "execution_count": 2,
   "metadata": {
    "colab": {},
    "colab_type": "code",
    "executionInfo": {
     "elapsed": 23138,
     "status": "ok",
     "timestamp": 1592938332731,
     "user": {
      "displayName": "",
      "photoUrl": "",
      "userId": ""
     },
     "user_tz": 420
    },
    "id": "2dVPgxN0MdG2"
   },
   "outputs": [],
   "source": [
    "import collections\n",
    "import time\n",
    "\n",
    "import tensorflow as tf\n",
    "\n",
    "import tensorflow_federated as tff\n",
    "\n",
    "source, _ = tff.simulation.datasets.emnist.load_data()\n",
    "\n",
    "\n",
    "def map_fn(example):\n",
    "  return collections.OrderedDict(\n",
    "      x=tf.reshape(example['pixels'], [-1, 784]), y=example['label'])\n",
    "\n",
    "\n",
    "def client_data(n):\n",
    "  ds = source.create_tf_dataset_for_client(source.client_ids[n])\n",
    "  return ds.repeat(10).shuffle(500).batch(20).map(map_fn)\n",
    "\n",
    "\n",
    "train_data = [client_data(n) for n in range(10)]\n",
    "element_spec = train_data[0].element_spec\n",
    "\n",
    "\n",
    "def model_fn():\n",
    "  model = tf.keras.models.Sequential([\n",
    "      tf.keras.layers.InputLayer(input_shape=(784,)),\n",
    "      tf.keras.layers.Dense(units=10, kernel_initializer='zeros'),\n",
    "      tf.keras.layers.Softmax(),\n",
    "  ])\n",
    "  return tff.learning.from_keras_model(\n",
    "      model,\n",
    "      input_spec=element_spec,\n",
    "      loss=tf.keras.losses.SparseCategoricalCrossentropy(),\n",
    "      metrics=[tf.keras.metrics.SparseCategoricalAccuracy()])\n",
    "\n",
    "\n",
    "trainer = tff.learning.build_federated_averaging_process(\n",
    "    model_fn, client_optimizer_fn=lambda: tf.keras.optimizers.SGD(0.02))\n",
    "\n",
    "\n",
    "def evaluate(num_rounds=10):\n",
    "  state = trainer.initialize()\n",
    "  for _ in range(num_rounds):\n",
    "    t1 = time.time()\n",
    "    state, metrics = trainer.next(state, train_data)\n",
    "    t2 = time.time()\n",
    "    print('metrics {m}, round time {t:.2f} seconds'.format(\n",
    "        m=metrics, t=t2 - t1))"
   ]
  },
  {
   "cell_type": "markdown",
   "metadata": {
    "colab_type": "text",
    "id": "CDHJF7EIiEy-"
   },
   "source": [
    "## Single-machine simulations\n",
    "\n",
    "Now on by default."
   ]
  },
  {
   "cell_type": "code",
   "execution_count": 3,
   "metadata": {
    "colab": {
     "height": 190
    },
    "colab_type": "code",
    "executionInfo": {
     "elapsed": 24224,
     "status": "ok",
     "timestamp": 1592938356963,
     "user": {
      "displayName": "",
      "photoUrl": "",
      "userId": ""
     },
     "user_tz": 420
    },
    "id": "-V6uCS_BMoR9",
    "outputId": "968c4957-a493-48fc-ea9d-c4ce7fdba468"
   },
   "outputs": [
    {
     "name": "stdout",
     "output_type": "stream",
     "text": [
      "WARNING:tensorflow:From /Users/a10.11.5/.local/lib/python3.7/site-packages/tensorflow_federated/python/core/impl/compiler/tensorflow_computation_transformations.py:60: extract_sub_graph (from tensorflow.python.framework.graph_util_impl) is deprecated and will be removed in a future version.\n",
      "Instructions for updating:\n",
      "Use `tf.compat.v1.graph_util.extract_sub_graph`\n"
     ]
    },
    {
     "name": "stderr",
     "output_type": "stream",
     "text": [
      "WARNING:tensorflow:From /Users/a10.11.5/.local/lib/python3.7/site-packages/tensorflow_federated/python/core/impl/compiler/tensorflow_computation_transformations.py:60: extract_sub_graph (from tensorflow.python.framework.graph_util_impl) is deprecated and will be removed in a future version.\n",
      "Instructions for updating:\n",
      "Use `tf.compat.v1.graph_util.extract_sub_graph`\n"
     ]
    },
    {
     "name": "stdout",
     "output_type": "stream",
     "text": [
      "metrics OrderedDict([('broadcast', ()), ('aggregation', OrderedDict([('mean_value', ()), ('mean_weight', ())])), ('train', OrderedDict([('sparse_categorical_accuracy', 0.14393005), ('loss', 2.9323442)])), ('stat', OrderedDict([('num_examples', 9720)]))]), round time 7.48 seconds\n",
      "metrics OrderedDict([('broadcast', ()), ('aggregation', OrderedDict([('mean_value', ()), ('mean_weight', ())])), ('train', OrderedDict([('sparse_categorical_accuracy', 0.181893), ('loss', 2.753177)])), ('stat', OrderedDict([('num_examples', 9720)]))]), round time 1.38 seconds\n",
      "metrics OrderedDict([('broadcast', ()), ('aggregation', OrderedDict([('mean_value', ()), ('mean_weight', ())])), ('train', OrderedDict([('sparse_categorical_accuracy', 0.21193415), ('loss', 2.5640454)])), ('stat', OrderedDict([('num_examples', 9720)]))]), round time 1.16 seconds\n",
      "metrics OrderedDict([('broadcast', ()), ('aggregation', OrderedDict([('mean_value', ()), ('mean_weight', ())])), ('train', OrderedDict([('sparse_categorical_accuracy', 0.2664609), ('loss', 2.3350415)])), ('stat', OrderedDict([('num_examples', 9720)]))]), round time 1.14 seconds\n",
      "metrics OrderedDict([('broadcast', ()), ('aggregation', OrderedDict([('mean_value', ()), ('mean_weight', ())])), ('train', OrderedDict([('sparse_categorical_accuracy', 0.31183127), ('loss', 2.1230183)])), ('stat', OrderedDict([('num_examples', 9720)]))]), round time 1.23 seconds\n",
      "metrics OrderedDict([('broadcast', ()), ('aggregation', OrderedDict([('mean_value', ()), ('mean_weight', ())])), ('train', OrderedDict([('sparse_categorical_accuracy', 0.38981482), ('loss', 1.8977666)])), ('stat', OrderedDict([('num_examples', 9720)]))]), round time 1.14 seconds\n",
      "metrics OrderedDict([('broadcast', ()), ('aggregation', OrderedDict([('mean_value', ()), ('mean_weight', ())])), ('train', OrderedDict([('sparse_categorical_accuracy', 0.41790125), ('loss', 1.7483455)])), ('stat', OrderedDict([('num_examples', 9720)]))]), round time 1.16 seconds\n",
      "metrics OrderedDict([('broadcast', ()), ('aggregation', OrderedDict([('mean_value', ()), ('mean_weight', ())])), ('train', OrderedDict([('sparse_categorical_accuracy', 0.46810699), ('loss', 1.6402706)])), ('stat', OrderedDict([('num_examples', 9720)]))]), round time 1.13 seconds\n",
      "metrics OrderedDict([('broadcast', ()), ('aggregation', OrderedDict([('mean_value', ()), ('mean_weight', ())])), ('train', OrderedDict([('sparse_categorical_accuracy', 0.50236624), ('loss', 1.5245247)])), ('stat', OrderedDict([('num_examples', 9720)]))]), round time 1.20 seconds\n",
      "metrics OrderedDict([('broadcast', ()), ('aggregation', OrderedDict([('mean_value', ()), ('mean_weight', ())])), ('train', OrderedDict([('sparse_categorical_accuracy', 0.5567901), ('loss', 1.4136266)])), ('stat', OrderedDict([('num_examples', 9720)]))]), round time 1.24 seconds\n"
     ]
    }
   ],
   "source": [
    "evaluate()"
   ]
  },
  {
   "cell_type": "markdown",
   "metadata": {
    "colab_type": "text",
    "id": "bZ171NhcNa3M"
   },
   "source": [
    "## Multi-machine simulations on GCP/GKE, GPUs, TPUs, and beyond...\n",
    "\n",
    "Coming very soon."
   ]
  }
 ],
 "metadata": {
  "colab": {
   "collapsed_sections": [],
   "name": "High-performance simulations with TFF"
  },
  "interpreter": {
   "hash": "0212cd9fec6ae9fd2bfeec8d60424f1313158b41cfed91a8a0510abbd045b5d2"
  },
  "kernelspec": {
   "display_name": "Python 3.7.1 64-bit ('base': conda)",
   "name": "python3"
  },
  "language_info": {
   "codemirror_mode": {
    "name": "ipython",
    "version": 3
   },
   "file_extension": ".py",
   "mimetype": "text/x-python",
   "name": "python",
   "nbconvert_exporter": "python",
   "pygments_lexer": "ipython3",
   "version": "3.7.1"
  },
  "toc": {
   "base_numbering": 1,
   "nav_menu": {},
   "number_sections": true,
   "sideBar": true,
   "skip_h1_title": false,
   "title_cell": "Table of Contents",
   "title_sidebar": "Contents",
   "toc_cell": false,
   "toc_position": {},
   "toc_section_display": true,
   "toc_window_display": false
  },
  "varInspector": {
   "cols": {
    "lenName": 16,
    "lenType": 16,
    "lenVar": 40
   },
   "kernels_config": {
    "python": {
     "delete_cmd_postfix": "",
     "delete_cmd_prefix": "del ",
     "library": "var_list.py",
     "varRefreshCmd": "print(var_dic_list())"
    },
    "r": {
     "delete_cmd_postfix": ") ",
     "delete_cmd_prefix": "rm(",
     "library": "var_list.r",
     "varRefreshCmd": "cat(var_dic_list()) "
    }
   },
   "types_to_exclude": [
    "module",
    "function",
    "builtin_function_or_method",
    "instance",
    "_Feature"
   ],
   "window_display": false
  }
 },
 "nbformat": 4,
 "nbformat_minor": 1
}
